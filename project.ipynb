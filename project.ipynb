{
 "cells": [
  {
   "cell_type": "code",
   "execution_count": 2,
   "metadata": {},
   "outputs": [],
   "source": [
    "#import any necessary package as needed\n",
    "import pandas as pd\n",
    "import numpy as np\n",
    "import os \n",
    "import matplotlib.pyplot as plt\n",
    "import seaborn as sns"
   ]
  },
  {
   "cell_type": "code",
   "execution_count": 4,
   "metadata": {},
   "outputs": [
    {
     "name": "stdout",
     "output_type": "stream",
     "text": [
      "   post_id  platform            bank_name  \\\n",
      "0  P000001    Reddit  First National Bank   \n",
      "1  P000002      Yelp  First National Bank   \n",
      "2  P000003    Reddit       SafeTrust Bank   \n",
      "3  P000004      Yelp       SafeTrust Bank   \n",
      "4  P000005  LinkedIn        Maple Savings   \n",
      "\n",
      "                                           post_text          category  \\\n",
      "0  Account flagged for suspicious activity; suppo...  Security & Fraud   \n",
      "1  Session keeps timing out while I complete form...    Online Banking   \n",
      "2  Found the ATM network reliable in my city, no ...       ATM Service   \n",
      "3  Opening an account online was quick and straig...   Account Opening   \n",
      "4  Partner deals are useful and save me money at ...  Rewards & Offers   \n",
      "\n",
      "                subcategory sentiment_label  sentiment_score        date  \\\n",
      "0  Unauthorized Transaction        Positive            0.398  2024-11-23   \n",
      "1                        UX        Negative           -0.243  2023-10-12   \n",
      "2              Network Down        Positive            0.256  2023-02-14   \n",
      "3            Online Sign-up         Neutral            0.167  2025-06-06   \n",
      "4                Promotions        Positive            1.134  2024-06-30   \n",
      "\n",
      "  user_id  ...  language  country  is_verified            topic_tags  \\\n",
      "0  U81482  ...        en       AU         True              security   \n",
      "1  U10851  ...        en       CA        False          rewards|loan   \n",
      "2  U70217  ...        en       AU         True            support|ux   \n",
      "3  U23238  ...        en       AU        False               loan|ux   \n",
      "4  U42087  ...        en       AU        False  transfer|security|ux   \n",
      "\n",
      "    extracted_entities urgency_flag  complaint_flag resolved_flag  \\\n",
      "0  First National Bank        False           False           NaN   \n",
      "1  First National Bank         True           False           NaN   \n",
      "2       SafeTrust Bank        False           False           NaN   \n",
      "3       SafeTrust Bank        False           False           NaN   \n",
      "4        Maple Savings        False           False           NaN   \n",
      "\n",
      "  response_time_hours                  source_url  \n",
      "0                 NaN  https://example.com/post/1  \n",
      "1                 NaN  https://example.com/post/2  \n",
      "2                 NaN  https://example.com/post/3  \n",
      "3                 NaN  https://example.com/post/4  \n",
      "4                 NaN  https://example.com/post/5  \n",
      "\n",
      "[5 rows x 24 columns]\n"
     ]
    }
   ],
   "source": [
    "# loading the data\n",
    "df = pd.read_csv(\"dataset.csv\")\n",
    "print(df.head())"
   ]
  },
  {
   "cell_type": "code",
   "execution_count": 6,
   "metadata": {},
   "outputs": [
    {
     "name": "stdout",
     "output_type": "stream",
     "text": [
      "(2000, 24)\n",
      "post_id                 object\n",
      "platform                object\n",
      "bank_name               object\n",
      "post_text               object\n",
      "category                object\n",
      "subcategory             object\n",
      "sentiment_label         object\n",
      "sentiment_score        float64\n",
      "date                    object\n",
      "user_id                 object\n",
      "user_followers           int64\n",
      "likes                    int64\n",
      "shares                   int64\n",
      "replies                  int64\n",
      "language                object\n",
      "country                 object\n",
      "is_verified               bool\n",
      "topic_tags              object\n",
      "extracted_entities      object\n",
      "urgency_flag              bool\n",
      "complaint_flag            bool\n",
      "resolved_flag           object\n",
      "response_time_hours    float64\n",
      "source_url              object\n",
      "dtype: object\n",
      "       sentiment_score  user_followers        likes       shares      replies  \\\n",
      "count      2000.000000     2000.000000  2000.000000  2000.000000  2000.000000   \n",
      "mean          0.107717       32.684500     5.050000     1.031000     1.965000   \n",
      "std           0.643722       55.139171     2.280373     1.028867     1.398482   \n",
      "min          -1.727000        0.000000     0.000000     0.000000     0.000000   \n",
      "25%          -0.344000       10.000000     3.000000     0.000000     1.000000   \n",
      "50%           0.121500       19.000000     5.000000     1.000000     2.000000   \n",
      "75%           0.544000       38.250000     6.000000     2.000000     3.000000   \n",
      "max           1.904000     1770.000000    17.000000     6.000000     9.000000   \n",
      "\n",
      "       response_time_hours  \n",
      "count            93.000000  \n",
      "mean             21.011828  \n",
      "std              18.993797  \n",
      "min               0.200000  \n",
      "25%               6.300000  \n",
      "50%              18.200000  \n",
      "75%              31.500000  \n",
      "max              92.100000  \n"
     ]
    }
   ],
   "source": [
    "# basic information exploring\n",
    "print(df.shape)\n",
    "print(df.dtypes)\n",
    "print(df.describe())"
   ]
  },
  {
   "cell_type": "code",
   "execution_count": 7,
   "metadata": {},
   "outputs": [
    {
     "name": "stdout",
     "output_type": "stream",
     "text": [
      "post_id                   0\n",
      "platform                  0\n",
      "bank_name                 0\n",
      "post_text                 0\n",
      "category                  0\n",
      "subcategory               0\n",
      "sentiment_label           0\n",
      "sentiment_score           0\n",
      "date                      0\n",
      "user_id                   0\n",
      "user_followers            0\n",
      "likes                     0\n",
      "shares                    0\n",
      "replies                   0\n",
      "language                  0\n",
      "country                   0\n",
      "is_verified               0\n",
      "topic_tags                0\n",
      "extracted_entities        0\n",
      "urgency_flag              0\n",
      "complaint_flag            0\n",
      "resolved_flag          1782\n",
      "response_time_hours    1907\n",
      "source_url                0\n",
      "dtype: int64\n"
     ]
    }
   ],
   "source": [
    "# check for missing values \n",
    "print(df.isnull().sum())"
   ]
  },
  {
   "cell_type": "code",
   "execution_count": 8,
   "metadata": {},
   "outputs": [],
   "source": [
    "#dropping two features because half of the data is missing and not important features we will be interested in looking at\n",
    "df = df.drop(columns=['resolved_flag','response_time_hours'])"
   ]
  },
  {
   "cell_type": "code",
   "execution_count": 9,
   "metadata": {},
   "outputs": [
    {
     "data": {
      "text/plain": [
       "post_id               0\n",
       "platform              0\n",
       "bank_name             0\n",
       "post_text             0\n",
       "category              0\n",
       "subcategory           0\n",
       "sentiment_label       0\n",
       "sentiment_score       0\n",
       "date                  0\n",
       "user_id               0\n",
       "user_followers        0\n",
       "likes                 0\n",
       "shares                0\n",
       "replies               0\n",
       "language              0\n",
       "country               0\n",
       "is_verified           0\n",
       "topic_tags            0\n",
       "extracted_entities    0\n",
       "urgency_flag          0\n",
       "complaint_flag        0\n",
       "source_url            0\n",
       "dtype: int64"
      ]
     },
     "execution_count": 9,
     "metadata": {},
     "output_type": "execute_result"
    }
   ],
   "source": [
    "df.isnull().sum()"
   ]
  },
  {
   "cell_type": "code",
   "execution_count": null,
   "metadata": {},
   "outputs": [],
   "source": []
  }
 ],
 "metadata": {
  "kernelspec": {
   "display_name": "base",
   "language": "python",
   "name": "python3"
  },
  "language_info": {
   "codemirror_mode": {
    "name": "ipython",
    "version": 3
   },
   "file_extension": ".py",
   "mimetype": "text/x-python",
   "name": "python",
   "nbconvert_exporter": "python",
   "pygments_lexer": "ipython3",
   "version": "3.12.4"
  }
 },
 "nbformat": 4,
 "nbformat_minor": 2
}
